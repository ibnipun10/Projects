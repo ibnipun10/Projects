{
 "cells": [
  {
   "cell_type": "code",
   "execution_count": 39,
   "metadata": {
    "collapsed": true
   },
   "outputs": [],
   "source": [
    "import requests\n",
    "import json"
   ]
  },
  {
   "cell_type": "code",
   "execution_count": 40,
   "metadata": {
    "collapsed": true
   },
   "outputs": [],
   "source": [
    "url = 'https://search-swyfttesteventspoc-rwrezxnwyk56n5epj3mtnczg5u.us-east-1.es.amazonaws.com'\n",
    "index = 'sams'\n",
    "indexType = 'events'\n",
    "headers = {'content-type': 'application/json'}\n",
    "indexConst = '{ \"index\": {}}'\n",
    "\n"
   ]
  },
  {
   "cell_type": "code",
   "execution_count": 43,
   "metadata": {
    "collapsed": false
   },
   "outputs": [],
   "source": [
    "array = []\n",
    "with open(\"events.txt\", \"r\") as ins:\n",
    "    for line in ins:\n",
    "        array.append(line)\n",
    "\n"
   ]
  },
  {
   "cell_type": "code",
   "execution_count": 66,
   "metadata": {
    "collapsed": false
   },
   "outputs": [
    {
     "name": "stdout",
     "output_type": "stream",
     "text": [
      "{ \"index\": {}}\n",
      "{\"appName\":\"testEvents\"}\n",
      "\n"
     ]
    }
   ],
   "source": [
    "data = ''\n",
    "data = data + indexConst + '\\n'\t\n",
    "x = array[0]\n",
    "data = data + x\n",
    "data = data + indexConst + '\\n'\t\n",
    "data = data + '{\"eventName\":\"test\"}'\n",
    "\n",
    "\n",
    "data =  '{ \"index\": {}}' + '\\n'\n",
    "data = data + '{\"appName\":\"testEvents\"}' + '\\n'\n",
    "print data\n"
   ]
  },
  {
   "cell_type": "code",
   "execution_count": 68,
   "metadata": {
    "collapsed": false
   },
   "outputs": [
    {
     "name": "stdout",
     "output_type": "stream",
     "text": [
      "https://search-swyfttesteventspoc-rwrezxnwyk56n5epj3mtnczg5u.us-east-1.es.amazonaws.com/sams/events/_bulk\n",
      "('response', {u'status': 400, u'error': u'ActionRequestValidationException[Validation Failed: 1: no requests added;]'})\n"
     ]
    }
   ],
   "source": [
    "fullurl =  url + '/' + index + '/' + indexType + '/_bulk'\n",
    "print fullurl\n",
    "r = requests.post(fullurl, data, headers=headers)\n",
    "print('response', r.json())"
   ]
  },
  {
   "cell_type": "code",
   "execution_count": null,
   "metadata": {
    "collapsed": true
   },
   "outputs": [],
   "source": []
  }
 ],
 "metadata": {
  "kernelspec": {
   "display_name": "Python 2",
   "language": "python",
   "name": "python2"
  },
  "language_info": {
   "codemirror_mode": {
    "name": "ipython",
    "version": 2
   },
   "file_extension": ".py",
   "mimetype": "text/x-python",
   "name": "python",
   "nbconvert_exporter": "python",
   "pygments_lexer": "ipython2",
   "version": "2.7.10"
  }
 },
 "nbformat": 4,
 "nbformat_minor": 0
}
