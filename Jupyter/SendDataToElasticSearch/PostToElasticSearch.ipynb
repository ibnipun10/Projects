{
 "cells": [
  {
   "cell_type": "code",
   "execution_count": 39,
   "metadata": {
    "collapsed": true
   },
   "outputs": [],
   "source": [
    "import requests\n",
    "import json"
   ]
  },
  {
   "cell_type": "code",
   "execution_count": 40,
   "metadata": {
    "collapsed": true
   },
   "outputs": [],
   "source": [
    "url = 'https://search-swyfttesteventspoc-rwrezxnwyk56n5epj3mtnczg5u.us-east-1.es.amazonaws.com'\n",
    "index = 'sams'\n",
    "indexType = 'events'\n",
    "headers = {'content-type': 'application/json'}\n",
    "indexConst = '{ \"index\": {}}'\n",
    "\n"
   ]
  },
  {
   "cell_type": "code",
   "execution_count": 43,
   "metadata": {
    "collapsed": false
   },
   "outputs": [],
   "source": [
    "array = []\n",
    "with open(\"events.txt\", \"r\") as ins:\n",
    "    for line in ins:\n",
    "        array.append(line)\n",
    "\n"
   ]
  },
  {
   "cell_type": "code",
   "execution_count": 57,
   "metadata": {
    "collapsed": false
   },
   "outputs": [
    {
     "name": "stdout",
     "output_type": "stream",
     "text": [
      "{ \"index\": {}}\n",
      "{\"eventName\":\"interaction\",\"eventTime\":\"2016-06-25 17:21:08+00:00\",\"appName\":\"minions\",\"userId\":\"78beedab-78b3-4758-93a5-889c66ec964d\",\"geoLocation\":null,\"location\":null,\"client\":{\"deviceMake\":\"motorola\",\"deviceModel\":\"XT1080\",\"OSName\":\"android\",\"OSVersion\":\"4.4.4\",\"deviceSerial\":\"\",\"ip\":\"52.201.251.236\"},\"meta\":{\"interactionType\":\"chatIconViewed\",\"appUsed\":\"GO SMS Pro\",\"adId\":\"0059a11c-2f45-4aac-a76b-70f5fde4b193\"},\"serials\":{\"brand\":\"1036\",\"pack\":\"1001\"},\"eventOrigin\":\"KBv1\",\"addedTime\":1467229607713}\n",
      "{ \"index\": {}}\n",
      "{\"eventName\":\"interaction\",\"eventTime\":\"2016-06-29 19:31:02+00:00\",\"appName\":\"thelunarchronicles\",\"userId\":\"cef05c27-b504-44db-ae7a-791e23a4ad66\",\"geoLocation\":null,\"location\":null,\"client\":{\"deviceMake\":\"LGE\",\"deviceModel\":\"LG-D800\",\"OSName\":\"android\",\"OSVersion\":\"4.4.2\",\"deviceSerial\":\"\",\"ip\":\"52.201.251.236\"},\"meta\":{\"interactionType\":\"chatIconViewed\",\"appUsed\":\"Whatsapp\",\"adId\":\"46f87b37-a22c-4668-8225-8335b8bad2c0\"},\"serials\":{\"brand\":\"1068\",\"pack\":\"1001\"},\"eventOrigin\":\"KBv1\",\"addedTime\":1467229608916}\n"
     ]
    }
   ],
   "source": [
    "data = ''\n",
    "data = data + indexConst + '\\n'\t\n",
    "x = array[0]\n",
    "data = data + x\n",
    "data = data + indexConst + '\\n'\t\n",
    "data = data + array[1]\n",
    "print data\n"
   ]
  },
  {
   "cell_type": "code",
   "execution_count": 59,
   "metadata": {
    "collapsed": false
   },
   "outputs": [
    {
     "name": "stdout",
     "output_type": "stream",
     "text": [
      "https://search-swyfttesteventspoc-rwrezxnwyk56n5epj3mtnczg5u.us-east-1.es.amazonaws.com/sams/events/_bulk\n",
      "('response', {u'items': [{u'create': {u'status': 201, u'_type': u'events', u'_id': u'AVX8aVc8n-HH8Y2iYr7b', u'_version': 1, u'_index': u'sams'}}], u'errors': False, u'took': 7})\n"
     ]
    }
   ],
   "source": [
    "fullurl =  url + '/' + index + '/' + indexType + '/_bulk'\n",
    "print fullurl\n",
    "r = requests.post(fullurl, data, headers=headers)\n",
    "print('response', r.json())"
   ]
  },
  {
   "cell_type": "code",
   "execution_count": null,
   "metadata": {
    "collapsed": true
   },
   "outputs": [],
   "source": []
  }
 ],
 "metadata": {
  "kernelspec": {
   "display_name": "Python 2",
   "language": "python",
   "name": "python2"
  },
  "language_info": {
   "codemirror_mode": {
    "name": "ipython",
    "version": 2
   },
   "file_extension": ".py",
   "mimetype": "text/x-python",
   "name": "python",
   "nbconvert_exporter": "python",
   "pygments_lexer": "ipython2",
   "version": "2.7.10"
  }
 },
 "nbformat": 4,
 "nbformat_minor": 0
}
