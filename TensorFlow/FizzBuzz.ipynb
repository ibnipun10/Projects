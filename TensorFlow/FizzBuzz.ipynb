{
 "cells": [
  {
   "cell_type": "code",
   "execution_count": 121,
   "metadata": {
    "collapsed": true
   },
   "outputs": [],
   "source": [
    "#print the numbers from 1 to 100, except that if the number is divisible by 3 print \"fizz\", \n",
    "#if it's divisible by 5 print \"buzz\", and if it's divisible by 15 print \"fizzbuzz\".\n",
    "\n",
    "import numpy as np\n",
    "import tensorflow as tf"
   ]
  },
  {
   "cell_type": "code",
   "execution_count": 122,
   "metadata": {
    "collapsed": true
   },
   "outputs": [],
   "source": [
    "#define output as one hot encoding\n",
    "def output(X):\n",
    "    if X % 15 == 0:\n",
    "        return np.array([0, 0, 0, 1])\n",
    "    if X % 5 == 0:\n",
    "        return np.array([0, 0, 1, 0])\n",
    "    if X % 3 == 0:\n",
    "        return np.array([0, 1, 0, 0])\n",
    "    else:\n",
    "        return np.array([1,0,0,0])"
   ]
  },
  {
   "cell_type": "code",
   "execution_count": 123,
   "metadata": {
    "collapsed": true
   },
   "outputs": [],
   "source": [
    "def Result(X):\n",
    "    return [\"No\", \"fizz\", \"buzz\", \"fizzbuzz\"][X]"
   ]
  },
  {
   "cell_type": "code",
   "execution_count": 124,
   "metadata": {
    "collapsed": false
   },
   "outputs": [],
   "source": [
    "#binary encode the digits\n",
    "def bin_encode(num, digits):\n",
    "    return np.array([num >> d & 1 for d in range(digits)])"
   ]
  },
  {
   "cell_type": "code",
   "execution_count": 125,
   "metadata": {
    "collapsed": false
   },
   "outputs": [
    {
     "name": "stdout",
     "output_type": "stream",
     "text": [
      "(923, 10)\n",
      "(923, 4)\n"
     ]
    }
   ],
   "source": [
    "numDigits = 10\n",
    "X = np.array([bin_encode(x, numDigits) for x in range(101, 2 ** 10)])\n",
    "print X.shape\n",
    "\n",
    "Y = np.array([output(x) for x in range(101, 2 ** 10)])\n",
    "print Y.shape"
   ]
  },
  {
   "cell_type": "code",
   "execution_count": 126,
   "metadata": {
    "collapsed": false
   },
   "outputs": [],
   "source": [
    "hidden = 100\n",
    "outputN = 4\n",
    "learningRate = .05"
   ]
  },
  {
   "cell_type": "code",
   "execution_count": 127,
   "metadata": {
    "collapsed": false
   },
   "outputs": [],
   "source": [
    "#input\n",
    "tf_x = tf.placeholder('float', [None, numDigits])\n",
    "tf_y = tf.placeholder('float', [None, outputN])"
   ]
  },
  {
   "cell_type": "code",
   "execution_count": 128,
   "metadata": {
    "collapsed": true
   },
   "outputs": [],
   "source": [
    "#weights and biases\n",
    "def weightBias(input, output):\n",
    "    w = tf.Variable(tf.random_normal([input, output]))\n",
    "    b = tf.Variable(tf.random_normal([output]))\n",
    "    return w, b"
   ]
  },
  {
   "cell_type": "code",
   "execution_count": 129,
   "metadata": {
    "collapsed": false
   },
   "outputs": [],
   "source": [
    "#we will have 1 hidden layer\n",
    "w1, b1 = weightBias(numDigits, hidden)\n",
    "w2, b2 = weightBias(hidden, outputN)"
   ]
  },
  {
   "cell_type": "code",
   "execution_count": 130,
   "metadata": {
    "collapsed": true
   },
   "outputs": [],
   "source": [
    "#prediction\n",
    "def model(X, w1, b1, w2, b2):\n",
    "    h1 = tf.nn.relu(tf.matmul(X, w1) + b1)\n",
    "    return tf.matmul(h1, w2) + b2"
   ]
  },
  {
   "cell_type": "code",
   "execution_count": 131,
   "metadata": {
    "collapsed": false
   },
   "outputs": [],
   "source": [
    "pred = model(tf_x, w1, b1, w2, b2)\n",
    "cost = tf.reduce_mean(tf.nn.softmax_cross_entropy_with_logits(pred, tf_y))\n",
    "optimizer = tf.train.GradientDescentOptimizer(learningRate).minimize(cost)\n",
    "accuracy = tf.reduce_mean(tf.cast(tf.equal(tf.argmax(pred,1),tf.argmax(tf_y,1)), \"float\"))"
   ]
  },
  {
   "cell_type": "code",
   "execution_count": 132,
   "metadata": {
    "collapsed": false
   },
   "outputs": [
    {
     "name": "stdout",
     "output_type": "stream",
     "text": [
      "accuracy  1.0\n",
      "[0 0 1 0 2 1 0 2 1 0 0 1 0 0 3 0 0 1 0 2 1 0 0 1 0 0 1 0 0 1 1 0 1 2 2 1 0\n",
      " 0 1 2 0 1 0 0 3 0 0 1 0 2 1 0 1 1 2 0 1 0 0 3 0 0 1 0 2 1 0 0 1 0 0 2 0 0\n",
      " 3 0 0 1 0 2 1 0 0 1 2 0 1 0 0 3 0 0 0 0 2 1 0 2 1 2]\n"
     ]
    }
   ],
   "source": [
    "with tf.Session() as sess:\n",
    "    tf.initialize_all_variables().run()\n",
    "\n",
    "    steps = 10000\n",
    "    batch = 128\n",
    "    for step in range(steps):\n",
    "        p = np.random.permutation(range(len(X)))\n",
    "        trX, trY = X[p], Y[p]\n",
    "        \n",
    "        for start in range(0, len(X), batch):\n",
    "            end = start + batch\n",
    "            \n",
    "            sess.run(optimizer, feed_dict={tf_x : trX[start:end], tf_y: trY[start:end]})\n",
    "        \n",
    "        #define accuracy on training data\n",
    "        \n",
    "        #print step, sess.run(accuracy, feed_dict={tf_x: trX, tf_y: trY})\n",
    "    \n",
    "    #print final accuracy on training data\n",
    "    print 'accuracy ', sess.run(accuracy, feed_dict={tf_x: X, tf_y: Y})\n",
    "    predInput = np.array([bin_encode(x, numDigits) for x in range(1, 101)])\n",
    "    predOutput = sess.run(pred, feed_dict={tf_x: predInput})\n",
    "    \n",
    "    predictO = np.argmax(predOutput, 1)\n",
    "    print predictO\n",
    "    "
   ]
  },
  {
   "cell_type": "code",
   "execution_count": 133,
   "metadata": {
    "collapsed": false
   },
   "outputs": [
    {
     "name": "stdout",
     "output_type": "stream",
     "text": [
      "1 No\n",
      "2 No\n",
      "3 fizz\n",
      "4 No\n",
      "5 buzz\n",
      "6 fizz\n",
      "7 No\n",
      "8 buzz\n",
      "9 fizz\n",
      "10 No\n",
      "11 No\n",
      "12 fizz\n",
      "13 No\n",
      "14 No\n",
      "15 fizzbuzz\n",
      "16 No\n",
      "17 No\n",
      "18 fizz\n",
      "19 No\n",
      "20 buzz\n",
      "21 fizz\n",
      "22 No\n",
      "23 No\n",
      "24 fizz\n",
      "25 No\n",
      "26 No\n",
      "27 fizz\n",
      "28 No\n",
      "29 No\n",
      "30 fizz\n",
      "31 fizz\n",
      "32 No\n",
      "33 fizz\n",
      "34 buzz\n",
      "35 buzz\n",
      "36 fizz\n",
      "37 No\n",
      "38 No\n",
      "39 fizz\n",
      "40 buzz\n",
      "41 No\n",
      "42 fizz\n",
      "43 No\n",
      "44 No\n",
      "45 fizzbuzz\n",
      "46 No\n",
      "47 No\n",
      "48 fizz\n",
      "49 No\n",
      "50 buzz\n",
      "51 fizz\n",
      "52 No\n",
      "53 fizz\n",
      "54 fizz\n",
      "55 buzz\n",
      "56 No\n",
      "57 fizz\n",
      "58 No\n",
      "59 No\n",
      "60 fizzbuzz\n",
      "61 No\n",
      "62 No\n",
      "63 fizz\n",
      "64 No\n",
      "65 buzz\n",
      "66 fizz\n",
      "67 No\n",
      "68 No\n",
      "69 fizz\n",
      "70 No\n",
      "71 No\n",
      "72 buzz\n",
      "73 No\n",
      "74 No\n",
      "75 fizzbuzz\n",
      "76 No\n",
      "77 No\n",
      "78 fizz\n",
      "79 No\n",
      "80 buzz\n",
      "81 fizz\n",
      "82 No\n",
      "83 No\n",
      "84 fizz\n",
      "85 buzz\n",
      "86 No\n",
      "87 fizz\n",
      "88 No\n",
      "89 No\n",
      "90 fizzbuzz\n",
      "91 No\n",
      "92 No\n",
      "93 No\n",
      "94 No\n",
      "95 buzz\n",
      "96 fizz\n",
      "97 No\n",
      "98 buzz\n",
      "99 fizz\n",
      "100 buzz\n"
     ]
    }
   ],
   "source": [
    "for a, x in np.ndenumerate(predictO):\n",
    "    print a[0]+1, Result(x)"
   ]
  },
  {
   "cell_type": "code",
   "execution_count": 134,
   "metadata": {
    "collapsed": false
   },
   "outputs": [
    {
     "name": "stdout",
     "output_type": "stream",
     "text": [
      "[[  9.46161366e+00   9.92488742e-01   4.89455271e+00  -1.33804440e+00]\n",
      " [  1.18323069e+01   9.00795078e+00   5.21169138e+00   5.65806007e+00]\n",
      " [  1.05281925e+01   1.23003187e+01   2.56268048e+00   6.42840862e+00]\n",
      " [  1.33232155e+01  -2.94750881e+00   1.92928946e+00   1.05215693e+00]\n",
      " [  5.49795008e+00   2.23925138e+00   7.55400372e+00   2.35140371e+00]\n",
      " [  1.48877239e+01   1.62534657e+01   2.52598929e+00   8.98688793e+00]\n",
      " [  1.92085457e+01   8.95738506e+00   9.09469795e+00   3.36614323e+00]\n",
      " [  8.22444344e+00  -5.29129362e+00   1.14870872e+01  -5.91112804e+00]\n",
      " [  9.23134625e-01   4.86369610e+00   9.42423224e-01  -8.09382534e+00]\n",
      " [  1.67163448e+01   5.04297543e+00   1.00424852e+01   1.67954159e+00]\n",
      " [  1.79406147e+01   2.35665607e+00   1.14263189e+00   2.28512192e+00]\n",
      " [  2.06353828e-01   9.03208637e+00   5.75669718e+00  -1.38665628e+00]\n",
      " [  7.46564579e+00  -5.05208349e+00  -8.07127953e-01   7.39978015e-01]\n",
      " [  1.84843388e+01   6.88456011e+00   6.51645041e+00   9.85177422e+00]\n",
      " [  8.12987137e+00   9.58898067e+00   1.38923478e+00   1.27429924e+01]\n",
      " [  6.93325090e+00  -1.85019553e+00  -1.77394259e+00  -5.55598974e+00]\n",
      " [  8.82584381e+00   2.59145474e+00  -2.33110070e+00  -1.71963274e-01]\n",
      " [  5.33484316e+00   1.50997181e+01   4.21296978e+00   5.01786661e+00]\n",
      " [  1.27725220e+01   8.15263557e+00   6.68650818e+00   1.06585684e+01]\n",
      " [  1.10434031e+00  -2.34136343e+00   1.98690212e+00  -2.38868713e+00]\n",
      " [ -9.42930728e-02   8.93559647e+00  -1.11153519e+00   6.07096136e-01]\n",
      " [  2.11675644e+01   6.48713112e+00   1.04854565e+01   2.98824883e+00]\n",
      " [  1.61988335e+01   8.81740189e+00   1.06912880e+01   6.35333395e+00]\n",
      " [ -6.23015583e-01   1.34576917e+00  -2.76109481e+00  -8.19501781e+00]\n",
      " [  7.38006413e-01  -2.04591370e+00  -4.37149143e+00  -6.91312885e+00]\n",
      " [  1.46481066e+01   8.18455696e-01   3.08296680e+00   2.27069259e+00]\n",
      " [  6.87244385e-02   1.06662312e+01   2.06070209e+00   5.29270697e+00]\n",
      " [  4.26259232e+00  -5.40452528e+00   8.78287911e-01  -4.45593214e+00]\n",
      " [  8.24289382e-01  -3.55071735e+00  -4.91354322e+00  -1.29542446e+00]\n",
      " [  7.12513828e+00   1.14023829e+01   4.69106865e+00   9.49693966e+00]\n",
      " [  6.55273724e+00   8.16539574e+00   5.53208208e+00   3.49122334e+00]\n",
      " [  6.51175308e+00   3.55900192e+00  -2.12994719e+00  -3.84787703e+00]\n",
      " [  3.67905736e+00   9.56656456e+00  -2.75858235e+00  -2.30530739e+00]\n",
      " [ -2.30875164e-02   6.68796778e+00   1.04590645e+01   4.14915943e+00]\n",
      " [  5.36852121e+00   5.95392561e+00   1.01959267e+01   2.96125269e+00]\n",
      " [  3.19745111e+00   7.70466900e+00  -9.65311170e-01  -3.50987017e-01]\n",
      " [  1.01447811e+01   5.26650071e-01   5.03826022e-01  -1.44169426e+00]\n",
      " [  1.01645775e+01   7.92576313e+00   8.24102974e+00   5.14230728e+00]\n",
      " [  5.78252363e+00   1.37213554e+01   5.34876442e+00   3.23183441e+00]\n",
      " [  5.95129108e+00  -2.73084450e+00   6.84317017e+00  -5.98065376e+00]\n",
      " [  1.13557110e+01  -5.14728689e+00  -4.96263742e+00  -4.81539345e+00]\n",
      " [  1.34915817e+00   1.12676249e+01   3.56277347e+00  -2.91573346e-01]\n",
      " [  1.61892719e+01  -3.61987066e+00  -3.99605942e+00   4.43885803e+00]\n",
      " [  9.30964088e+00   1.31108546e+00   2.09475726e-01   2.54462290e+00]\n",
      " [  3.46942782e+00  -1.68208444e+00  -4.95732737e+00   1.07488918e+01]\n",
      " [  1.20437260e+01   8.70321465e+00   5.77230406e+00   8.45517445e+00]\n",
      " [  1.52093124e+01   4.54610109e+00   1.55020559e+00   6.66419077e+00]\n",
      " [ -2.73304296e+00   9.30495143e-01  -8.79520416e+00  -6.07855034e+00]\n",
      " [  3.46646762e+00  -2.85889745e-01  -7.58758187e-02  -1.43159842e+00]\n",
      " [  1.24960732e+00   1.78849590e+00   7.03209686e+00   4.97908306e+00]\n",
      " [  4.19850349e+00   1.12217827e+01   1.14667785e+00   3.24223948e+00]\n",
      " [  5.29977798e+00  -5.54183149e+00  -9.74052072e-01  -6.40802097e+00]\n",
      " [  8.98701966e-01   2.29931498e+00   3.76105636e-01  -3.49767613e+00]\n",
      " [  5.27749729e+00   1.11561089e+01   8.36507416e+00   3.42848969e+00]\n",
      " [  9.76403046e+00   4.21078110e+00   1.38497839e+01   3.20212698e+00]\n",
      " [  1.00959196e+01  -1.05578337e+01  -6.48879766e+00  -8.48889256e+00]\n",
      " [ -7.05420685e+00   5.48019457e+00  -1.01840992e+01  -7.05323839e+00]\n",
      " [  1.17475824e+01  -3.91868544e+00  -2.37506658e-01   2.40156984e+00]\n",
      " [  5.88959503e+00  -3.98766041e+00  -1.52553213e+00   4.80893421e+00]\n",
      " [ -5.49981773e-01  -4.43675518e+00  -2.96613812e+00   4.60984373e+00]\n",
      " [ -7.93250561e-01  -1.25580943e+00  -3.91860271e+00  -3.71550250e+00]\n",
      " [  1.36283855e+01   1.22616887e-01   2.26625991e+00   6.38531303e+00]\n",
      " [  3.41869664e+00   1.08082523e+01  -9.23362374e-03   3.34398842e+00]\n",
      " [  1.29982872e+01   7.66793609e-01   6.84115314e+00  -5.93393469e+00]\n",
      " [  3.44246244e+00   7.64858198e+00   1.34656048e+01  -2.98657537e+00]\n",
      " [  8.31381702e+00   1.81057949e+01   1.84041297e+00   7.58382857e-01]\n",
      " [  1.55654259e+01   1.07550449e+01   7.50618172e+00   3.48333597e+00]\n",
      " [  9.28932762e+00   5.06760836e+00   6.27574539e+00  -8.39647102e+00]\n",
      " [  5.08805275e+00   1.05552607e+01   5.58669662e+00  -1.70270920e+00]\n",
      " [  1.88968067e+01   7.14844036e+00   3.97499442e+00   4.55030382e-01]\n",
      " [  2.01439266e+01   7.02167559e+00   3.34581733e+00   4.29200077e+00]\n",
      " [  5.01552629e+00   2.49876857e-01   1.08643446e+01   5.10571671e+00]\n",
      " [  9.90238380e+00  -4.20291901e+00   1.49271953e+00   2.82308340e+00]\n",
      " [  2.20116673e+01   3.98740673e+00   6.21844912e+00   1.35999823e+01]\n",
      " [  1.27101774e+01   1.06369553e+01  -5.20951939e+00   1.58496943e+01]\n",
      " [  1.12290068e+01   1.79119444e+00   8.88781261e+00  -2.58178115e+00]\n",
      " [  1.04175005e+01  -1.79864204e+00   3.14058375e+00  -1.49918139e-01]\n",
      " [  1.40154657e+01   1.76732273e+01   4.08664513e+00   6.81345224e+00]\n",
      " [  1.40438461e+01   9.75733566e+00   6.38675690e+00   4.63153267e+00]\n",
      " [  1.64796567e+00   1.81680501e+00   1.01602726e+01  -7.40734005e+00]\n",
      " [  8.09572411e+00   8.36500740e+00   2.53438282e+00  -3.81240034e+00]\n",
      " [  1.56933832e+01   8.60790825e+00   8.46929455e+00  -2.72560453e+00]\n",
      " [  1.73536472e+01   1.15692348e+01   1.12875319e+01   5.43548203e+00]\n",
      " [  2.13440225e-01   6.78229666e+00  -9.84969735e-03  -9.89180470e+00]\n",
      " [  5.31303740e+00   6.59660935e-01   7.17507267e+00  -2.33055687e+00]\n",
      " [  1.54689512e+01   1.05123997e+01   6.21563911e+00  -4.81430721e+00]\n",
      " [  1.02727747e+01   1.60198612e+01   5.14404297e+00   3.36739635e+00]\n",
      " [  3.50253940e+00  -4.69125462e+00   7.61318088e-01  -1.91056061e+00]\n",
      " [  9.16722393e+00  -6.68287897e+00  -5.07057667e+00   2.23027134e+00]\n",
      " [  1.00155830e+01   8.45226097e+00   5.17730594e-01   1.35112762e+01]\n",
      " [  1.35548763e+01   6.43646145e+00   2.97440314e+00   1.05190039e+01]\n",
      " [  2.85451078e+00  -3.28446770e+00   8.03975940e-01  -3.29336882e+00]\n",
      " [ -4.92841899e-01  -5.16427636e-01  -4.93146569e-01  -3.28474283e+00]\n",
      " [  1.36393166e+01   7.17057848e+00   8.28280640e+00   2.03512287e+00]\n",
      " [  6.75741959e+00   1.03909616e+01   1.27728157e+01   5.41214168e-01]\n",
      " [  8.11606312e+00   1.48004017e+01   7.64032364e-01  -6.24040604e+00]\n",
      " [  1.34932852e+01   4.01934671e+00   1.51154816e+00  -4.22250986e+00]\n",
      " [  3.63365555e+00   1.06256342e+01   1.07092142e+01   2.78110445e-01]\n",
      " [  2.38944316e+00   1.37286301e+01   8.29269791e+00   2.91952753e+00]\n",
      " [  7.02047825e+00  -4.00387406e-01   8.82255173e+00  -1.56645298e+00]]\n"
     ]
    }
   ],
   "source": [
    "print predOutput"
   ]
  },
  {
   "cell_type": "code",
   "execution_count": null,
   "metadata": {
    "collapsed": true
   },
   "outputs": [],
   "source": []
  }
 ],
 "metadata": {
  "kernelspec": {
   "display_name": "Python 2",
   "language": "python",
   "name": "python2"
  },
  "language_info": {
   "codemirror_mode": {
    "name": "ipython",
    "version": 2
   },
   "file_extension": ".py",
   "mimetype": "text/x-python",
   "name": "python",
   "nbconvert_exporter": "python",
   "pygments_lexer": "ipython2",
   "version": "2.7.6"
  }
 },
 "nbformat": 4,
 "nbformat_minor": 0
}
